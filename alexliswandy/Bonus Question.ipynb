{
  "cells": [
    {
      "metadata": {
        "trusted": true
      },
      "cell_type": "code",
      "source": "# B2\nimport random\n\nfile = open('GAME.TXT', 'r')\nchar = file.readlines()\nfor i in range(2):\n    char[i] = char[i].strip()\ncounta = 0\ncountb = 0\nfor i in range(100):\n    temp = random.randint(1, 100) \n    if temp <= 70:\n        counta += 1\n        print(\"Good morning {}!\".format(char[0]))\n    else:\n        countb += 1\n        print(\"Good morning {}!\".format(char[1]))\n\nprint(\"Good morning {}! occurs {}%\".format(char[0], counta))\nprint(\"Good morning {}! occurs {}%\".format(char[1], countb))",
      "execution_count": 15,
      "outputs": [
        {
          "output_type": "stream",
          "text": "Good morning 猫!\nGood morning 猫!\nGood morning 狗!\nGood morning 猫!\nGood morning 猫!\nGood morning 狗!\nGood morning 猫!\nGood morning 猫!\nGood morning 猫!\nGood morning 猫!\nGood morning 猫!\nGood morning 猫!\nGood morning 狗!\nGood morning 狗!\nGood morning 狗!\nGood morning 猫!\nGood morning 猫!\nGood morning 猫!\nGood morning 猫!\nGood morning 猫!\nGood morning 猫!\nGood morning 猫!\nGood morning 猫!\nGood morning 狗!\nGood morning 猫!\nGood morning 猫!\nGood morning 猫!\nGood morning 狗!\nGood morning 猫!\nGood morning 狗!\nGood morning 猫!\nGood morning 猫!\nGood morning 猫!\nGood morning 狗!\nGood morning 猫!\nGood morning 狗!\nGood morning 猫!\nGood morning 猫!\nGood morning 猫!\nGood morning 猫!\nGood morning 猫!\nGood morning 狗!\nGood morning 猫!\nGood morning 猫!\nGood morning 狗!\nGood morning 猫!\nGood morning 猫!\nGood morning 狗!\nGood morning 狗!\nGood morning 猫!\nGood morning 猫!\nGood morning 猫!\nGood morning 猫!\nGood morning 猫!\nGood morning 猫!\nGood morning 猫!\nGood morning 猫!\nGood morning 猫!\nGood morning 狗!\nGood morning 猫!\nGood morning 猫!\nGood morning 猫!\nGood morning 狗!\nGood morning 狗!\nGood morning 猫!\nGood morning 猫!\nGood morning 狗!\nGood morning 猫!\nGood morning 猫!\nGood morning 狗!\nGood morning 猫!\nGood morning 猫!\nGood morning 狗!\nGood morning 猫!\nGood morning 猫!\nGood morning 猫!\nGood morning 猫!\nGood morning 猫!\nGood morning 狗!\nGood morning 猫!\nGood morning 狗!\nGood morning 狗!\nGood morning 狗!\nGood morning 猫!\nGood morning 狗!\nGood morning 猫!\nGood morning 狗!\nGood morning 猫!\nGood morning 狗!\nGood morning 狗!\nGood morning 猫!\nGood morning 狗!\nGood morning 狗!\nGood morning 猫!\nGood morning 猫!\nGood morning 狗!\nGood morning 猫!\nGood morning 狗!\nGood morning 狗!\nGood morning 猫!\nGood morning 猫! occurs 67%\nGood morning 狗! occurs 33%\n",
          "name": "stdout"
        }
      ]
    },
    {
      "metadata": {
        "trusted": true
      },
      "cell_type": "code",
      "source": "# B4\nfrom flask import Flask, render_template\napp = Flask(__name__)\n\n@app.route(\"/\")\ndef index():\n    return render_template(\"index.html\")",
      "execution_count": null,
      "outputs": []
    }
  ],
  "metadata": {
    "kernelspec": {
      "name": "python36",
      "display_name": "Python 3.6",
      "language": "python"
    },
    "language_info": {
      "mimetype": "text/x-python",
      "nbconvert_exporter": "python",
      "name": "python",
      "pygments_lexer": "ipython3",
      "version": "3.6.6",
      "file_extension": ".py",
      "codemirror_mode": {
        "version": 3,
        "name": "ipython"
      }
    }
  },
  "nbformat": 4,
  "nbformat_minor": 2
}