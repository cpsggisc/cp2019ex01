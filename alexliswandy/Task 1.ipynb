{
  "cells": [
    {
      "metadata": {
        "trusted": true
      },
      "cell_type": "code",
      "source": "# Task 1.1\nfile = open('IOI2019.TXT', 'r')\nfile.readline()\nlines = file.readlines()\nparticipants = 329\nrect = []\nrect_total = 0\nshoes = []\nshoes_total = 0\nsplit = []\nsplit_total = 0\nline2 = []\nline2_total = 0\nvision = []\nvision_total = 0\nwalk = []\nwalk_total = 0\n\nfor line in lines:\n    line = line.strip().split(',')\n    rect.append(line[4])\n    rect_total += float(line[4])\n    shoes.append(line[5])\n    shoes_total += float(line[5])\n    split.append(line[6])\n    split_total += float(line[6])\n    line2.append(line[8])\n    line2_total += float(line[8])\n    vision.append(line[9])\n    vision_total += float(line[9])\n    walk.append(line[10])\n    walk_total += float(line[10])\n    \ntasks = [rect, shoes, split, line2, vision, walk]\nmean = []\nfor task in tasks:\n    n = []\n    occur = []\n    for i in task:\n        if i not in n:\n            n.append(i)\n            occur.append(task.count(i))\n    mean.append([n for occur, n in sorted(zip(occur, n), reverse=True)][0])        \n    \nprint(\"Tasks    Mean   Mode\")\nprint(\"%s     %.1f   %.1f\" % (\"rect\", rect_total/participants, float(mean[0])))\nprint(\"%s    %.1f   %.1f\" % (\"shoes\", shoes_total/participants, float(mean[1])))\nprint(\"%s    %.1f   %.1f\" % (\"split\", split_total/participants, float(mean[2])))\nprint(\"%s     %.1f   %.1f\" % (\"line\", line2_total/participants, float(mean[3])))\nprint(\"%s   %.1f   %.1f\" % (\"vision\", vision_total/participants, float(mean[4])))\nprint(\"%s     %.1f   %.1f\" % (\"walk\", walk_total/participants, float(mean[5])))",
      "execution_count": 73,
      "outputs": [
        {
          "output_type": "stream",
          "text": "Tasks    Mean   Mode\nrect     37.1   0.0\nshoes    74.9   100.0\nsplit    26.8   40.0\nline     41.3   12.0\nvision   53.8   66.0\nwalk     12.8   0.0\n",
          "name": "stdout"
        }
      ]
    },
    {
      "metadata": {
        "trusted": true
      },
      "cell_type": "code",
      "source": "# Task 1.2\nfile = open('IOI2019.TXT', 'r')\nfile.readline()\nlines = file.readlines()\nteams = []\nranks = []\nranksum = []\n\nfor line in lines:\n    line = line.strip().split(',')\n    if line[3] not in teams:\n        teams.append(line[3])\n        ranks.append([])\n        ranks[-1].append(int(line[0]))\n    else:\n        temp = teams.index(line[3])\n        ranks[temp].append(int(line[0]))\n\nfor i in ranks:\n    j = 0\n    temp = 0\n    while j < 3 and j < len(i):\n        temp += i[j]\n        j += 1\n    ranksum.append(temp)\n\nteam_order = [teams for ranksum, teams in sorted(zip(ranksum, teams))]\nranksum_order = [ranksum for ranksum, teams in sorted(zip(ranksum, teams))]\n\nprint(\"Order Team RankSum\")\nfor i in range(5):\n    print(\"{}     {}  {}\".format(i+1, team_order[i], ranksum_order[i]))",
      "execution_count": 74,
      "outputs": [
        {
          "output_type": "stream",
          "text": "Order Team RankSum\n1     USA  21\n2     CHN  29\n3     RUS  45\n4     IRN  74\n5     KOR  77\n",
          "name": "stdout"
        }
      ]
    },
    {
      "metadata": {
        "trusted": true
      },
      "cell_type": "code",
      "source": "",
      "execution_count": null,
      "outputs": []
    }
  ],
  "metadata": {
    "kernelspec": {
      "name": "python36",
      "display_name": "Python 3.6",
      "language": "python"
    },
    "language_info": {
      "mimetype": "text/x-python",
      "nbconvert_exporter": "python",
      "name": "python",
      "pygments_lexer": "ipython3",
      "version": "3.6.6",
      "file_extension": ".py",
      "codemirror_mode": {
        "version": 3,
        "name": "ipython"
      }
    }
  },
  "nbformat": 4,
  "nbformat_minor": 2
}