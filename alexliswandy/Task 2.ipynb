{
  "cells": [
    {
      "metadata": {
        "trusted": true,
        "scrolled": true
      },
      "cell_type": "code",
      "source": "# Task 2.1\nfile = open('SGQR.TXT', 'r')\nline = file.readline()\nprint(line)\n\nwhile len(line) > 0:\n    temp = line[:4+int(line[2:4])]\n    print(temp)\n    line = line[4+int(line[2:4]):]\n    print(line)\nprint(temp)",
      "execution_count": 11,
      "outputs": [
        {
          "output_type": "stream",
          "text": "0002010102111531480007024800070280007025499436326590011COM.REMOPAY0110200000033802040000030400010404000099020127330015SG.COM.DASH.WWW0110100210041328650017COM.SGP.PAY0110100000033702040000030400010404000099020129720013sg.com.ezlink0114FMP-10000003380204SGQR0317NPL-0001-0000000004046AF951800007SG.SGQR01121809072DDA29020701.00010306058602040200050200060400000708201809155204000053037025802SG5909hisenyuan6009SGP63082D6363A7\n000201\n0102111531480007024800070280007025499436326590011COM.REMOPAY0110200000033802040000030400010404000099020127330015SG.COM.DASH.WWW0110100210041328650017COM.SGP.PAY0110100000033702040000030400010404000099020129720013sg.com.ezlink0114FMP-10000003380204SGQR0317NPL-0001-0000000004046AF951800007SG.SGQR01121809072DDA29020701.00010306058602040200050200060400000708201809155204000053037025802SG5909hisenyuan6009SGP63082D6363A7\n010211\n1531480007024800070280007025499436326590011COM.REMOPAY0110200000033802040000030400010404000099020127330015SG.COM.DASH.WWW0110100210041328650017COM.SGP.PAY0110100000033702040000030400010404000099020129720013sg.com.ezlink0114FMP-10000003380204SGQR0317NPL-0001-0000000004046AF951800007SG.SGQR01121809072DDA29020701.00010306058602040200050200060400000708201809155204000053037025802SG5909hisenyuan6009SGP63082D6363A7\n15314800070248000702800070254994363\n26590011COM.REMOPAY0110200000033802040000030400010404000099020127330015SG.COM.DASH.WWW0110100210041328650017COM.SGP.PAY0110100000033702040000030400010404000099020129720013sg.com.ezlink0114FMP-10000003380204SGQR0317NPL-0001-0000000004046AF951800007SG.SGQR01121809072DDA29020701.00010306058602040200050200060400000708201809155204000053037025802SG5909hisenyuan6009SGP63082D6363A7\n26590011COM.REMOPAY01102000000338020400000304000104040000990201\n27330015SG.COM.DASH.WWW0110100210041328650017COM.SGP.PAY0110100000033702040000030400010404000099020129720013sg.com.ezlink0114FMP-10000003380204SGQR0317NPL-0001-0000000004046AF951800007SG.SGQR01121809072DDA29020701.00010306058602040200050200060400000708201809155204000053037025802SG5909hisenyuan6009SGP63082D6363A7\n27330015SG.COM.DASH.WWW01101002100413\n28650017COM.SGP.PAY0110100000033702040000030400010404000099020129720013sg.com.ezlink0114FMP-10000003380204SGQR0317NPL-0001-0000000004046AF951800007SG.SGQR01121809072DDA29020701.00010306058602040200050200060400000708201809155204000053037025802SG5909hisenyuan6009SGP63082D6363A7\n28650017COM.SGP.PAY01101000000337020400000304000104040000990201297200\n13sg.com.ezlink0114FMP-10000003380204SGQR0317NPL-0001-0000000004046AF951800007SG.SGQR01121809072DDA29020701.00010306058602040200050200060400000708201809155204000053037025802SG5909hisenyuan6009SGP63082D6363A7\n",
          "name": "stdout"
        },
        {
          "output_type": "error",
          "ename": "ValueError",
          "evalue": "invalid literal for int() with base 10: 'sg'",
          "traceback": [
            "\u001b[0;31m---------------------------------------------------------------------------\u001b[0m",
            "\u001b[0;31mValueError\u001b[0m                                Traceback (most recent call last)",
            "\u001b[0;32m<ipython-input-11-d97eb149edc9>\u001b[0m in \u001b[0;36m<module>\u001b[0;34m\u001b[0m\n\u001b[1;32m      5\u001b[0m \u001b[0;34m\u001b[0m\u001b[0m\n\u001b[1;32m      6\u001b[0m \u001b[0;32mwhile\u001b[0m \u001b[0mlen\u001b[0m\u001b[0;34m(\u001b[0m\u001b[0mline\u001b[0m\u001b[0;34m)\u001b[0m \u001b[0;34m>\u001b[0m \u001b[0;36m0\u001b[0m\u001b[0;34m:\u001b[0m\u001b[0;34m\u001b[0m\u001b[0m\n\u001b[0;32m----> 7\u001b[0;31m     \u001b[0mtemp\u001b[0m \u001b[0;34m=\u001b[0m \u001b[0mline\u001b[0m\u001b[0;34m[\u001b[0m\u001b[0;34m:\u001b[0m\u001b[0;36m4\u001b[0m\u001b[0;34m+\u001b[0m\u001b[0mint\u001b[0m\u001b[0;34m(\u001b[0m\u001b[0mline\u001b[0m\u001b[0;34m[\u001b[0m\u001b[0;36m2\u001b[0m\u001b[0;34m:\u001b[0m\u001b[0;36m4\u001b[0m\u001b[0;34m]\u001b[0m\u001b[0;34m)\u001b[0m\u001b[0;34m]\u001b[0m\u001b[0;34m\u001b[0m\u001b[0m\n\u001b[0m\u001b[1;32m      8\u001b[0m     \u001b[0mprint\u001b[0m\u001b[0;34m(\u001b[0m\u001b[0mtemp\u001b[0m\u001b[0;34m)\u001b[0m\u001b[0;34m\u001b[0m\u001b[0m\n\u001b[1;32m      9\u001b[0m     \u001b[0mline\u001b[0m \u001b[0;34m=\u001b[0m \u001b[0mline\u001b[0m\u001b[0;34m[\u001b[0m\u001b[0;36m4\u001b[0m\u001b[0;34m+\u001b[0m\u001b[0mint\u001b[0m\u001b[0;34m(\u001b[0m\u001b[0mline\u001b[0m\u001b[0;34m[\u001b[0m\u001b[0;36m2\u001b[0m\u001b[0;34m:\u001b[0m\u001b[0;36m4\u001b[0m\u001b[0;34m]\u001b[0m\u001b[0;34m)\u001b[0m\u001b[0;34m:\u001b[0m\u001b[0;34m]\u001b[0m\u001b[0;34m\u001b[0m\u001b[0m\n",
            "\u001b[0;31mValueError\u001b[0m: invalid literal for int() with base 10: 'sg'"
          ]
        }
      ]
    },
    {
      "metadata": {
        "trusted": true
      },
      "cell_type": "code",
      "source": "# Task 2.2\ndef hex2deci(num):\n    hexa = ['0', '1', '2', '3', '4', '5', '6', '7', '8', '9', 'A', 'B', 'C', 'D', 'E', 'F']\n    num = num[::-1]\n    total = 0\n    for i in range(len(num)):\n        total += hexa.index(num[i]) * (16**i)\n    return total\n\nhex2deci('2D6363A7')",
      "execution_count": 21,
      "outputs": [
        {
          "output_type": "execute_result",
          "execution_count": 21,
          "data": {
            "text/plain": "761488295"
          },
          "metadata": {}
        }
      ]
    },
    {
      "metadata": {
        "trusted": true
      },
      "cell_type": "code",
      "source": "# Task 2.3\ndef rhex2deci(num, total, count):\n    if len(num)==0:\n        print(total)\n    else:\n        hexa = ['0', '1', '2', '3', '4', '5', '6', '7', '8', '9', 'A', 'B', 'C', 'D', 'E', 'F']\n        total += hexa.index(num[-1]) * (16**count)\n        count += 1\n        rhex2deci(num[:-1], total, count)\n    \nrhex2deci('2D6363A7', 0, 0)",
      "execution_count": 30,
      "outputs": [
        {
          "output_type": "stream",
          "text": "761488295\n",
          "name": "stdout"
        }
      ]
    }
  ],
  "metadata": {
    "kernelspec": {
      "name": "python36",
      "display_name": "Python 3.6",
      "language": "python"
    },
    "language_info": {
      "mimetype": "text/x-python",
      "nbconvert_exporter": "python",
      "name": "python",
      "pygments_lexer": "ipython3",
      "version": "3.6.6",
      "file_extension": ".py",
      "codemirror_mode": {
        "version": 3,
        "name": "ipython"
      }
    }
  },
  "nbformat": 4,
  "nbformat_minor": 2
}