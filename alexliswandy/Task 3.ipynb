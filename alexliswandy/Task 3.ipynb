{
  "cells": [
    {
      "metadata": {
        "trusted": true
      },
      "cell_type": "code",
      "source": "# Task 3.1\ndef validate_isbn13(isbn):\n    if len(isbn) != 13:\n        return False\n    elif not isbn.isdigit():\n        return False\n    else:\n        n = 0\n        for i in range(0, 12):\n            if i % 2 == 0:\n                n += int(isbn[i])\n            else:\n                n += int(isbn[i]) * 3\n        n = n % 10\n        if n == 0:\n            check = n\n        else:\n            check = 10 - n\n        \n        if check != int(isbn[-1]):\n            return False\n    return True\n\nprint(validate_isbn13('9780545010221'))\nprint(validate_isbn13('978038550422X'))",
      "execution_count": 15,
      "outputs": [
        {
          "output_type": "stream",
          "text": "True\nFalse\n",
          "name": "stdout"
        }
      ]
    },
    {
      "metadata": {
        "trusted": true
      },
      "cell_type": "code",
      "source": "# Task 3.2\ndef validate_isbn(isbn):\n    if not isbn.isdigit():\n        return False\n    \n    if len(isbn) == 10:\n        n = 0\n        for i in range(9):\n            n += int(isbn[i]) * (i+1)\n        n = n % 11\n        if n != int(isbn[-1]):\n            return False\n        return True\n    \n    elif len(isbn) == 13:\n        n = 0\n        for i in range(0, 12):\n            if i % 2 == 0:\n                n += int(isbn[i])\n            else:\n                n += int(isbn[i]) * 3\n        n = n % 10\n        if n == 0:\n            check = n\n        else:\n            check = 10 - n\n        \n        if check != int(isbn[-1]):\n            return False\n        return True\n    \n    return False  \n\nprint(validate_isbn('1593074061'))\nprint(validate_isbn('142150460X'))",
      "execution_count": 31,
      "outputs": [
        {
          "output_type": "stream",
          "text": "False\nFalse\n",
          "name": "stdout"
        }
      ]
    },
    {
      "metadata": {
        "trusted": true
      },
      "cell_type": "code",
      "source": "# Task 3.3",
      "execution_count": 32,
      "outputs": []
    },
    {
      "metadata": {
        "trusted": true
      },
      "cell_type": "code",
      "source": "# Task 3.4\nclass Node:\n    \n    def __init__(self, reviews, data, link):\n        self.reviews = reviews\n        self.data = data\n        self.link = link\n        \nclass BST:\n    \n    def __init__(self):\n        self.root = None\n        self.left = None\n        self.right = None\n        \n    def is_empty(self):\n        return self.root == None\n    \n    def add(self, reviews, data):\n        if self.is_empty():\n            self.root = node\n        elif reviews < self.root:\n            self.left.add(self, reviews, data)\n        else:\n            self.right.add(self, reviews, data)\n            \n    def search(self, target):\n        found = False\n        if self.is_empty():\n            return found\n        if self.root.reviews == target:\n            found = True\n        elif target < self.root.reviews:\n            self.left.search(target)\n        else:\n            self.right.search(target)",
      "execution_count": 33,
      "outputs": []
    }
  ],
  "metadata": {
    "kernelspec": {
      "name": "python36",
      "display_name": "Python 3.6",
      "language": "python"
    },
    "language_info": {
      "mimetype": "text/x-python",
      "nbconvert_exporter": "python",
      "name": "python",
      "pygments_lexer": "ipython3",
      "version": "3.6.6",
      "file_extension": ".py",
      "codemirror_mode": {
        "version": 3,
        "name": "ipython"
      }
    }
  },
  "nbformat": 4,
  "nbformat_minor": 2
}