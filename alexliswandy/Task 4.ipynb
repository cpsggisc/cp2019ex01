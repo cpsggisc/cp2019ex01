{
  "cells": [
    {
      "metadata": {
        "trusted": true
      },
      "cell_type": "code",
      "source": "# Task 4.1\nimport sqlite3\n\nconnection = sqlite3.connect(\"school.db\")\ncursor = connection.cursor()\n\ncommand = \"\"\"CREATE TABLE student (\nid INT,\nyear INTEGER,\nname TEXT,\nnric TEXT,\nschool TEXT,\nsub1 TEXT,\nsub2 TEXT,\nsub3 TEXT,\nsub4 TEXT,\nsub5 TEXT,\nsub6 TEXT,\nPRIMARY KEY(id)\n);\"\"\"\ncursor.execute(command)\n\nconn.commit()\nconn.close()",
      "execution_count": null,
      "outputs": []
    },
    {
      "metadata": {
        "trusted": true
      },
      "cell_type": "code",
      "source": "# Task 4.5\nimport unittest\n\ndef validate_grade(subject_level, grade):\n    subject_level = str(subject_level)\n    grade = str(grade)\n    h1 = ['a', 'b', 'c', 'd', 'e', 's', 'u']\n    h3 = ['distinction', 'merit', 'pass', 'ungraded']\n    if (subject_level.lower() == 'h1' or subject_level.lower() =='h2') and grade.lower() in h1:\n        return True\n    elif subject_level.lower() == 'h3' and grade.lower() in h3:\n        return True\n    else:\n        return False\n    \nclass TestGradeValidation(unittest.TestCase):\n    \n    def test_h1_1(self):\n        self.assertEqual(validate_grade('H1', 'A'), True)\n        \n    def test_h1_2(self):\n        self.assertEqual(validate_grade('h1', 'u'), True)\n        \n    def test_h1_3(self):\n        self.assertEqual(validate_grade('h1', 'distinction'), False)\n        \n    def test_h2_1(self):\n        self.assertEqual(validate_grade('H2', 'B'), True)\n        \n    def test_h2_2(self):\n        self.assertEqual(validate_grade('h2', 's'), True)\n        \n    def test_h2_3(self):\n        self.assertEqual(validate_grade('h2', 'pass'), False)\n        \n    def test_h3_1(self):\n        self.assertEqual(validate_grade('H3', 'DISTINCTION'), True)\n        \n    def test_h3_2(self):\n        self.assertEqual(validate_grade('h3', 'ungraded'), True)\n        \n    def test_h3_3(self):\n        self.assertEqual(validate_grade('h3', 'a'), False)\n        \nunittest.main(argv=[''], exit=False)",
      "execution_count": 11,
      "outputs": [
        {
          "output_type": "stream",
          "text": ".........\n----------------------------------------------------------------------\nRan 9 tests in 0.029s\n\nOK\n",
          "name": "stderr"
        },
        {
          "output_type": "execute_result",
          "execution_count": 11,
          "data": {
            "text/plain": "<unittest.main.TestProgram at 0x7f33f76739e8>"
          },
          "metadata": {}
        }
      ]
    },
    {
      "metadata": {
        "trusted": true
      },
      "cell_type": "code",
      "source": "",
      "execution_count": null,
      "outputs": []
    }
  ],
  "metadata": {
    "kernelspec": {
      "name": "python36",
      "display_name": "Python 3.6",
      "language": "python"
    },
    "language_info": {
      "mimetype": "text/x-python",
      "nbconvert_exporter": "python",
      "name": "python",
      "pygments_lexer": "ipython3",
      "version": "3.6.6",
      "file_extension": ".py",
      "codemirror_mode": {
        "version": 3,
        "name": "ipython"
      }
    }
  },
  "nbformat": 4,
  "nbformat_minor": 2
}